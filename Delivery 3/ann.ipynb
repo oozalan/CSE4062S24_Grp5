{
 "cells": [
  {
   "cell_type": "code",
   "execution_count": 24,
   "id": "014749a8-466f-4e12-b34b-2b4ae92cbba2",
   "metadata": {},
   "outputs": [],
   "source": [
    "import pandas\n",
    "from sklearn.feature_selection import SelectKBest, f_classif, mutual_info_classif\n",
    "from sklearn.preprocessing import KBinsDiscretizer\n",
    "import xlsxwriter\n"
   ]
  },
  {
   "cell_type": "code",
   "execution_count": 25,
   "id": "46da4149-9b41-40d2-9013-8c5b924162a0",
   "metadata": {},
   "outputs": [],
   "source": [
    "# Read the dataset\n",
    "df = pandas.read_csv(\"data.csv\")\n",
    "df.rename(columns=lambda x: x.strip(), inplace=True)\n",
    "df.drop(columns=[\"Net Income Flag\"], inplace=True)"
   ]
  },
  {
   "cell_type": "code",
   "execution_count": 26,
   "id": "ec18490d-0497-4d68-a03c-bbb838e28f49",
   "metadata": {},
   "outputs": [],
   "source": [
    "# Seperate the class label from other features\n",
    "X = df.drop(columns=[\"Bankrupt?\"])\n",
    "y = df[\"Bankrupt?\"]"
   ]
  },
  {
   "cell_type": "code",
   "execution_count": 27,
   "id": "73327e44-8fcd-4c12-8098-27e223f2c561",
   "metadata": {},
   "outputs": [],
   "source": [
    "# Calculate the ANOVA F-values\n",
    "f_values = f_classif(X, y)[0]\n",
    "for i in range(len(f_values)):\n",
    "    f_values[i] = round(f_values[i], 4)\n",
    "\n",
    "f_values = dict(zip(X.columns, f_values)) # Create dictionary"
   ]
  },
  {
   "cell_type": "code",
   "execution_count": 28,
   "id": "b47b2547-e59d-46cd-b704-2d45809a1aca",
   "metadata": {},
   "outputs": [],
   "source": [
    "# Calculate the mutual information values\n",
    "mi_values = mutual_info_classif(X, y, random_state=0)\n",
    "for i in range(len(mi_values)):\n",
    "    mi_values[i] = round(mi_values[i], 4)\n",
    "\n",
    "mi_values = dict(zip(X.columns, mi_values)) # Create dictionary"
   ]
  },
  {
   "cell_type": "code",
   "execution_count": 29,
   "id": "1167af04-16c7-46fa-a8ec-3a82849f7ca9",
   "metadata": {},
   "outputs": [],
   "source": [
    "# Pick the best features for each feature selection method\n",
    "f_features = SelectKBest(f_classif, k=10).fit(X, y).get_feature_names_out()\n",
    "mi_features = SelectKBest(mutual_info_classif, k=10).fit(X, y).get_feature_names_out()\n",
    "\n",
    "X_f = X.filter(items=f_features, axis=1)\n",
    "X_mi = X.filter(items=mi_features, axis=1)"
   ]
  },
  {
   "cell_type": "code",
   "execution_count": 30,
   "id": "6e930233-b1be-4600-bd98-d711a2616921",
   "metadata": {},
   "outputs": [],
   "source": [
    "# Perform discretization on both datasets\n",
    "enc = KBinsDiscretizer(n_bins=3, encode=\"onehot\")\n",
    "X_f_binned = enc.fit_transform(X_f)\n",
    "X_mi_binned = enc.fit_transform(X_mi)"
   ]
  },
  {
   "cell_type": "code",
   "execution_count": 31,
   "id": "fe064345-1bca-4f34-938b-1d3e203d2124",
   "metadata": {},
   "outputs": [],
   "source": [
    "from sklearn.neural_network import MLPClassifier\n",
    "import pandas as pd\n",
    "from sklearn.model_selection import StratifiedKFold, train_test_split\n",
    "from sklearn.metrics import accuracy_score, f1_score, roc_auc_score\n",
    "import numpy as np"
   ]
  },
  {
   "cell_type": "code",
   "execution_count": 32,
   "id": "a19fa9de-1899-419c-b349-1b2ef7128f00",
   "metadata": {},
   "outputs": [],
   "source": [
    "\n",
    "# Define ANN classifier\n",
    "ann = MLPClassifier(hidden_layer_sizes=(100,), max_iter=1000, random_state=42)"
   ]
  },
  {
   "cell_type": "code",
   "execution_count": 33,
   "id": "0ab0eaa6-1fb5-4251-a00b-ebf3dc163c67",
   "metadata": {},
   "outputs": [],
   "source": [
    "# Define feature subsets from previous feature selection methods\n",
    "feature_subsets = {\n",
    "    \"ANOVA F-value\": X_f,\n",
    "    \"Mutual Information\": X_mi\n",
    "}"
   ]
  },
  {
   "cell_type": "code",
   "execution_count": 34,
   "id": "26663703-f684-486b-aaa4-9020e34d4954",
   "metadata": {},
   "outputs": [],
   "source": [
    "# Define evaluation metrics\n",
    "evaluation_metrics = [\"Accuracy\", \"F1-macro\", \"F1-micro\"]"
   ]
  },
  {
   "cell_type": "code",
   "execution_count": 35,
   "id": "346b3bd0-5700-4851-b778-c7f13cdd0057",
   "metadata": {},
   "outputs": [],
   "source": [
    "\n",
    "# Initialize results dictionary for ANN\n",
    "ann_results = {method: {metric: [] for metric in evaluation_metrics} for method in feature_subsets}\n"
   ]
  },
  {
   "cell_type": "code",
   "execution_count": 36,
   "id": "ac4f7602-c739-42ae-85c6-c59c2a5d6d5b",
   "metadata": {},
   "outputs": [],
   "source": [
    "# Stratified 10-fold cross-validation for ANN\n",
    "skf = StratifiedKFold(n_splits=10, shuffle=True, random_state=42)\n",
    "\n"
   ]
  },
  {
   "cell_type": "code",
   "execution_count": 37,
   "id": "397346de-4a2a-4c59-a80f-02e01e8a42e1",
   "metadata": {},
   "outputs": [],
   "source": [
    "for method, X_selected in feature_subsets.items():\n",
    "    # 10-fold cross-validation\n",
    "    for train_index, test_index in skf.split(X_selected, y):\n",
    "        X_train, X_test = X_selected.iloc[train_index], X_selected.iloc[test_index]\n",
    "        y_train, y_test = y.iloc[train_index], y.iloc[test_index]\n",
    "        \n",
    "        # Train ANN classifier\n",
    "        ann.fit(X_train, y_train)\n",
    "        \n",
    "        # Predict on test set\n",
    "        y_pred = ann.predict(X_test)\n",
    "        \n",
    "        # Calculate evaluation metrics\n",
    "        accuracy = accuracy_score(y_test, y_pred)\n",
    "        f1_macro = f1_score(y_test, y_pred, average='macro')\n",
    "        f1_micro = f1_score(y_test, y_pred, average='micro')\n",
    "        auc = roc_auc_score(y_test, y_pred)\n",
    "        \n",
    "        # Store results\n",
    "        ann_results[method][\"Accuracy\"].append(accuracy)\n",
    "        ann_results[method][\"F1-macro\"].append(f1_macro)\n",
    "        ann_results[method][\"F1-micro\"].append(f1_micro)"
   ]
  },
  {
   "cell_type": "code",
   "execution_count": 38,
   "id": "bf6824e0-a255-4a19-b715-af543513d15a",
   "metadata": {},
   "outputs": [
    {
     "name": "stdout",
     "output_type": "stream",
     "text": [
      "\n",
      "Results for ANOVA F-value with ANN (Stratified 10-fold CV):\n",
      "Accuracy: Mean = 0.9679, Std = 0.0021\n",
      "F1-macro: Mean = 0.5832, Std = 0.0511\n",
      "F1-micro: Mean = 0.9679, Std = 0.0021\n",
      "\n",
      "Results for Mutual Information with ANN (Stratified 10-fold CV):\n",
      "Accuracy: Mean = 0.9683, Std = 0.0024\n",
      "F1-macro: Mean = 0.5994, Std = 0.0509\n",
      "F1-micro: Mean = 0.9683, Std = 0.0024\n"
     ]
    }
   ],
   "source": [
    "# Display results for ANN with stratified 10-fold cross-validation\n",
    "for method, metrics in ann_results.items():\n",
    "    print(f\"\\nResults for {method} with ANN (Stratified 10-fold CV):\")\n",
    "    for metric, values in metrics.items():\n",
    "        print(f\"{metric}: Mean = {np.mean(values):.4f}, Std = {np.std(values):.4f}\")"
   ]
  },
  {
   "cell_type": "markdown",
   "id": "43789b8c",
   "metadata": {},
   "source": [
    "Results for ANOVA F-value with ANN (Stratified 10-fold CV):\n",
    "Accuracy: Mean = 0.9679, Std = 0.0021\n",
    "F1-macro: Mean = 0.5832, Std = 0.0511\n",
    "F1-micro: Mean = 0.9679, Std = 0.0021\n",
    "\n",
    "Results for Mutual Information with ANN (Stratified 10-fold CV):\n",
    "Accuracy: Mean = 0.9680, Std = 0.0017\n",
    "F1-macro: Mean = 0.5929, Std = 0.0475\n",
    "F1-micro: Mean = 0.9680, Std = 0.0017"
   ]
  },
  {
   "cell_type": "code",
   "execution_count": 39,
   "id": "fe8629c8-0ff7-4f0f-8b16-dc8dcbecbcc6",
   "metadata": {},
   "outputs": [],
   "source": [
    "# Random hold-out validation with 40% test set size for ANN\n",
    "for method, X_selected in feature_subsets.items():\n",
    "    for _ in range(10):  # Repeat 10 times for 10 random hold-out validations\n",
    "        X_train, X_test, y_train, y_test = train_test_split(X_selected, y, test_size=0.4, stratify=y, random_state=42)\n",
    "        \n",
    "        # Train ANN classifier\n",
    "        ann.fit(X_train, y_train)\n",
    "        \n",
    "        # Predict on test set\n",
    "        y_pred = ann.predict(X_test)\n",
    "        \n",
    "        # Calculate evaluation metrics\n",
    "        accuracy = accuracy_score(y_test, y_pred)\n",
    "        f1_macro = f1_score(y_test, y_pred, average='macro')\n",
    "        f1_micro = f1_score(y_test, y_pred, average='micro')\n",
    "        auc = roc_auc_score(y_test, y_pred)\n",
    "        \n",
    "        # Store results\n",
    "        ann_results[method][\"Accuracy\"].append(accuracy)\n",
    "        ann_results[method][\"F1-macro\"].append(f1_macro)\n",
    "        ann_results[method][\"F1-micro\"].append(f1_micro)"
   ]
  },
  {
   "cell_type": "code",
   "execution_count": 40,
   "id": "4af922ed-3463-4aac-8ad6-60af5e7ec566",
   "metadata": {},
   "outputs": [
    {
     "name": "stdout",
     "output_type": "stream",
     "text": [
      "\n",
      "Results for ANOVA F-value with ANN (Random Hold-Out):\n",
      "Accuracy: Mean = 0.9684, Std = 0.0016\n",
      "F1-macro: Mean = 0.5852, Std = 0.0362\n",
      "F1-micro: Mean = 0.9684, Std = 0.0016\n",
      "\n",
      "Results for Mutual Information with ANN (Random Hold-Out):\n",
      "Accuracy: Mean = 0.9686, Std = 0.0017\n",
      "F1-macro: Mean = 0.5934, Std = 0.0365\n",
      "F1-micro: Mean = 0.9686, Std = 0.0017\n"
     ]
    }
   ],
   "source": [
    "# Display results for ANN with random hold-out validation\n",
    "for method, metrics in ann_results.items():\n",
    "    print(f\"\\nResults for {method} with ANN (Random Hold-Out):\")\n",
    "    for metric, values in metrics.items():\n",
    "        print(f\"{metric}: Mean = {np.mean(values):.4f}, Std = {np.std(values):.4f}\")"
   ]
  },
  {
   "cell_type": "markdown",
   "id": "1f2105f2",
   "metadata": {},
   "source": [
    "Results for ANOVA F-value with ANN (Random Hold-Out):\n",
    "Accuracy: Mean = 0.9684, Std = 0.0016\n",
    "F1-macro: Mean = 0.5852, Std = 0.0362\n",
    "F1-micro: Mean = 0.9684, Std = 0.0016\n",
    "\n",
    "Results for Mutual Information with ANN (Random Hold-Out):\n",
    "Accuracy: Mean = 0.9681, Std = 0.0012\n",
    "F1-macro: Mean = 0.5852, Std = 0.0344\n",
    "F1-micro: Mean = 0.9681, Std = 0.0012"
   ]
  },
  {
   "cell_type": "code",
   "execution_count": 41,
   "id": "c26fe389-1573-41a2-9e05-3fdbb59fbb20",
   "metadata": {},
   "outputs": [
    {
     "data": {
      "image/png": "[encoded data removed]",
      "text/plain": [
       "<Figure size 576x432 with 1 Axes>"
      ]
     },
     "metadata": {
      "needs_background": "light"
     },
     "output_type": "display_data"
    }
   ],
   "source": [
    "import matplotlib.pyplot as plt\n",
    "from sklearn.metrics import roc_curve, auc\n",
    "\n",
    "# Initialize dictionaries to store ROC curve data\n",
    "roc_curves = {method: {\"fpr\": [], \"tpr\": [], \"roc_auc\": []} for method in feature_subsets}\n",
    "\n",
    "# Stratified 10-fold cross-validation for ROC curves\n",
    "for method, X_selected in feature_subsets.items():\n",
    "    for train_index, test_index in skf.split(X_selected, y):\n",
    "        X_train, X_test = X_selected.iloc[train_index], X_selected.iloc[test_index]\n",
    "        y_train, y_test = y.iloc[train_index], y.iloc[test_index]\n",
    "        \n",
    "        # Train classifier\n",
    "        classifier = MLPClassifier(hidden_layer_sizes=(100,), max_iter=1000, random_state=42)\n",
    "        classifier.fit(X_train, y_train)\n",
    "        \n",
    "        # Get predicted probabilities of positive class\n",
    "        y_proba = classifier.predict_proba(X_test)[:, 1]\n",
    "        \n",
    "        # Calculate ROC curve\n",
    "        fpr, tpr, _ = roc_curve(y_test, y_proba)\n",
    "        roc_auc = auc(fpr, tpr)\n",
    "        \n",
    "        # Store ROC curve data\n",
    "        roc_curves[method][\"fpr\"].append(fpr)\n",
    "        roc_curves[method][\"tpr\"].append(tpr)\n",
    "        roc_curves[method][\"roc_auc\"].append(roc_auc)\n",
    "\n",
    "# Plot ROC curves\n",
    "plt.figure(figsize=(8, 6))\n",
    "for method, curve_data in roc_curves.items():\n",
    "    # Interpolate ROC curves to a common set of false positive rates\n",
    "    mean_fpr = np.linspace(0, 1, 100)\n",
    "    mean_tpr = np.zeros_like(mean_fpr)\n",
    "    for fpr, tpr in zip(curve_data[\"fpr\"], curve_data[\"tpr\"]):\n",
    "        mean_tpr += np.interp(mean_fpr, fpr, tpr)\n",
    "    mean_tpr /= len(curve_data[\"fpr\"])  # Average across folds\n",
    "    \n",
    "    # Calculate mean AUC\n",
    "    mean_auc = auc(mean_fpr, mean_tpr)\n",
    "    \n",
    "    # Plot mean ROC curve\n",
    "    plt.plot(mean_fpr, mean_tpr, label=f'{method} (AUC = {mean_auc:.2f})')\n",
    "\n",
    "plt.plot([0, 1], [0, 1], linestyle='--', color='gray', label='Random')\n",
    "plt.xlabel('False Positive Rate')\n",
    "plt.ylabel('True Positive Rate')\n",
    "plt.title('ROC Curves')\n",
    "plt.legend()\n",
    "plt.show()\n",
    "\n"
   ]
  },
  {
   "cell_type": "code",
   "execution_count": 42,
   "id": "9f94b0c1-c605-41d3-b623-bcf6faa7aaab",
   "metadata": {},
   "outputs": [
    {
     "data": {
      "image/png": "[encoded data removed]",
      "text/plain": [
       "<Figure size 576x432 with 1 Axes>"
      ]
     },
     "metadata": {
      "needs_background": "light"
     },
     "output_type": "display_data"
    }
   ],
   "source": [
    "# Initialize dictionaries to store ROC curve data for hold-out validation\n",
    "roc_curves_holdout = {method: {\"fpr\": [], \"tpr\": [], \"roc_auc\": []} for method in feature_subsets}\n",
    "\n",
    "# Random hold-out validation with 40% test set size for ROC curves\n",
    "for method, X_selected in feature_subsets.items():\n",
    "    for _ in range(10):  # Repeat 10 times for 10 random hold-out validations\n",
    "        X_train, X_test, y_train, y_test = train_test_split(X_selected, y, test_size=0.4, stratify=y, random_state=42)\n",
    "        \n",
    "        # Train classifier\n",
    "        classifier = MLPClassifier(hidden_layer_sizes=(100,), max_iter=1000, random_state=42)\n",
    "        classifier.fit(X_train, y_train)\n",
    "        \n",
    "        # Get predicted probabilities of positive class\n",
    "        y_proba = classifier.predict_proba(X_test)[:, 1]\n",
    "        \n",
    "        # Calculate ROC curve\n",
    "        fpr, tpr, _ = roc_curve(y_test, y_proba)\n",
    "        roc_auc = auc(fpr, tpr)\n",
    "        \n",
    "        # Store ROC curve data\n",
    "        roc_curves_holdout[method][\"fpr\"].append(fpr)\n",
    "        roc_curves_holdout[method][\"tpr\"].append(tpr)\n",
    "        roc_curves_holdout[method][\"roc_auc\"].append(roc_auc)\n",
    "\n",
    "# Plot ROC curves for hold-out validation\n",
    "plt.figure(figsize=(8, 6))\n",
    "for method, curve_data in roc_curves_holdout.items():\n",
    "    mean_fpr = np.linspace(0, 1, 100)\n",
    "    mean_tpr = np.zeros_like(mean_fpr)\n",
    "    for fpr, tpr in zip(curve_data[\"fpr\"], curve_data[\"tpr\"]):\n",
    "        mean_tpr += np.interp(mean_fpr, fpr, tpr)\n",
    "    mean_tpr /= len(curve_data[\"fpr\"])  # Average across hold-out validations\n",
    "    \n",
    "    # Calculate mean AUC\n",
    "    mean_auc = auc(mean_fpr, mean_tpr)\n",
    "    \n",
    "    # Plot mean ROC curve\n",
    "    plt.plot(mean_fpr, mean_tpr, label=f'{method} (AUC = {mean_auc:.2f})')\n",
    "\n",
    "plt.plot([0, 1], [0, 1], linestyle='--', color='gray', label='Random')\n",
    "plt.xlabel('False Positive Rate')\n",
    "plt.ylabel('True Positive Rate')\n",
    "plt.title('ROC Curves (Random Hold-Out)')\n",
    "plt.legend()\n",
    "plt.show()\n"
   ]
  },
  {
   "cell_type": "code",
   "execution_count": 43,
   "id": "d46a5687-a795-4a81-aa6b-a1285fe23a99",
   "metadata": {},
   "outputs": [],
   "source": [
    "from sklearn.metrics import confusion_matrix\n",
    "from sklearn.metrics import ConfusionMatrixDisplay"
   ]
  },
  {
   "cell_type": "code",
   "execution_count": 44,
   "id": "0ad3755e-39e8-4e9c-9355-2da0de1ae3c9",
   "metadata": {},
   "outputs": [
    {
     "data": {
      "image/png": "[encoded data removed]",
      "text/plain": [
       "<Figure size 432x288 with 2 Axes>"
      ]
     },
     "metadata": {
      "needs_background": "light"
     },
     "output_type": "display_data"
    }
   ],
   "source": [
    "# Split the data into training and testing sets\n",
    "X_train, X_test, y_train, y_test = train_test_split(X_f, y, test_size=0.4, stratify=y, random_state=42)\n",
    "\n",
    "# Train the model and make predictions\n",
    "ann.fit(X_train, y_train)\n",
    "y_pred = ann.predict(X_test)\n",
    "\n",
    "# Calculate the Confusion Matrix\n",
    "cm = confusion_matrix(y_test, y_pred)\n",
    "\n",
    "# Visualize the Confusion Matrix\n",
    "disp = ConfusionMatrixDisplay(confusion_matrix=cm)\n",
    "disp.plot(cmap='Blues')\n",
    "plt.title('Confusion Matrix - ANN (ANOVA F-value)')\n",
    "plt.show()"
   ]
  },
  {
   "cell_type": "code",
   "execution_count": null,
   "id": "870ccf2e-8f63-4bac-8a28-6805487a17fd",
   "metadata": {},
   "outputs": [],
   "source": []
  }
 ],
 "metadata": {
  "kernelspec": {
   "display_name": "Python 3 (ipykernel)",
   "language": "python",
   "name": "python3"
  },
  "language_info": {
   "codemirror_mode": {
    "name": "ipython",
    "version": 3
   },
   "file_extension": ".py",
   "mimetype": "text/x-python",
   "name": "python",
   "nbconvert_exporter": "python",
   "pygments_lexer": "ipython3",
   "version": "3.10.12"
  }
 },
 "nbformat": 4,
 "nbformat_minor": 5
}
